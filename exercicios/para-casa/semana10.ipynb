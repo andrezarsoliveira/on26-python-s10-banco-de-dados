{
  "nbformat": 4,
  "nbformat_minor": 0,
  "metadata": {
    "colab": {
      "provenance": []
    },
    "kernelspec": {
      "name": "python3",
      "display_name": "Python 3"
    },
    "language_info": {
      "name": "python"
    }
  },
  "cells": [
    {
      "cell_type": "code",
      "execution_count": 1,
      "metadata": {
        "id": "Zft916qG3SOA"
      },
      "outputs": [],
      "source": [
        "import csv\n",
        "import sqlite3"
      ]
    },
    {
      "cell_type": "code",
      "source": [
        "bank = sqlite3.connect('best-selling-manga.db')\n",
        "cursor = bank.cursor()"
      ],
      "metadata": {
        "id": "MisN-FQMuvHq"
      },
      "execution_count": null,
      "outputs": []
    },
    {
      "cell_type": "code",
      "source": [
        "cursor.execute(''' CREATE TABLE IF NOT EXISTS Manga (\n",
        "  MangaSeries TEXT NOT NULL,\n",
        "  Author TEXT,\n",
        "  Publisher TEXT,\n",
        "  Demographic TEXT,\n",
        "  \"No. of collected volumes\" INT,\n",
        "  Serialized TEXT,\n",
        "  \"Approximate sales in million(s)\" FLOAT,\n",
        "  \"Average sales per volume in million(s)\" FLOAT,\n",
        ")''')"
      ],
      "metadata": {
        "id": "QXzSjUDQu4Nn"
      },
      "execution_count": null,
      "outputs": []
    },
    {
      "cell_type": "code",
      "source": [
        "file = open('best-selling-manga')"
      ],
      "metadata": {
        "id": "9agryvT1vKPn"
      },
      "execution_count": null,
      "outputs": []
    },
    {
      "cell_type": "code",
      "source": [
        "content = csv.reader(file)"
      ],
      "metadata": {
        "id": "ovOsZni9vzri"
      },
      "execution_count": null,
      "outputs": []
    },
    {
      "cell_type": "code",
      "source": [
        "insert_content = \"INSERT INTO Manga (MangaSeries, Author, Publisher, Demographic, No. of collected volumes, Serialized, Approximate sales in million(s), Average sales per volume in million(s)) VALUES (?, ?, ?, ?, ?, ?, ?, ?)\"\n"
      ],
      "metadata": {
        "id": "lWONN5q9v0go"
      },
      "execution_count": null,
      "outputs": []
    },
    {
      "cell_type": "code",
      "source": [
        "select_all = \"SELECT * FROM Manga\"\n",
        "enter = cursor.execute(select_all).fetchall()\n"
      ],
      "metadata": {
        "id": "8eSwi6VZwBfm"
      },
      "execution_count": null,
      "outputs": []
    },
    {
      "cell_type": "code",
      "source": [
        "bank.commit()\n",
        "bank.close()"
      ],
      "metadata": {
        "id": "qA3NRiF0wuf1"
      },
      "execution_count": null,
      "outputs": []
    }
  ]
}